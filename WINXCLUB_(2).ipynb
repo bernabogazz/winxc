{
  "nbformat": 4,
  "nbformat_minor": 0,
  "metadata": {
    "colab": {
      "provenance": [],
      "include_colab_link": true
    },
    "kernelspec": {
      "name": "python3",
      "display_name": "Python 3"
    },
    "language_info": {
      "name": "python"
    }
  },
  "cells": [
    {
      "cell_type": "markdown",
      "metadata": {
        "id": "view-in-github",
        "colab_type": "text"
      },
      "source": [
        "<a href=\"https://colab.research.google.com/github/bernabogazz/winxc/blob/main/WINXCLUB_(2).ipynb\" target=\"_parent\"><img src=\"https://colab.research.google.com/assets/colab-badge.svg\" alt=\"Open In Colab\"/></a>"
      ]
    },
    {
      "cell_type": "code",
      "execution_count": null,
      "metadata": {
        "id": "OdG0M3yLrai_"
      },
      "outputs": [],
      "source": [
        "#WINXCLUB, MEMBERS: alara turhan, berna boğaz, şevval nilsu tarhan, yunus kerem saçar, begüm polat, mustafa erdoğan "
      ]
    },
    {
      "cell_type": "code",
      "source": [
        "import pandas as pd\n",
        "import numpy as np \n",
        "from scipy import stats\n",
        "import matplotlib.pyplot as plt\n",
        "import seaborn as sns"
      ],
      "metadata": {
        "id": "WZngXzkgsHNe"
      },
      "execution_count": 3,
      "outputs": []
    },
    {
      "cell_type": "code",
      "source": [
        "# Load the Titanic dataset\n",
        "train = pd.read_csv(\"/content/drive/MyDrive/train.csv\", header=None)"
      ],
      "metadata": {
        "id": "6qBLtOSQsNi3"
      },
      "execution_count": 6,
      "outputs": []
    },
    {
      "cell_type": "code",
      "source": [
        "from google.colab import drive\n",
        "drive.mount('/content/drive')"
      ],
      "metadata": {
        "colab": {
          "base_uri": "https://localhost:8080/"
        },
        "id": "KfraXd7rsa_c",
        "outputId": "c2589e3d-f437-4731-cf1f-022ef794b13b"
      },
      "execution_count": 1,
      "outputs": [
        {
          "output_type": "stream",
          "name": "stdout",
          "text": [
            "Mounted at /content/drive\n"
          ]
        }
      ]
    },
    {
      "cell_type": "code",
      "source": [
        "train.head()"
      ],
      "metadata": {
        "colab": {
          "base_uri": "https://localhost:8080/",
          "height": 235
        },
        "id": "IIzXLuPysgL5",
        "outputId": "7ef9f3f8-2dd5-4af3-82f6-4f2a3fc979d8"
      },
      "execution_count": 7,
      "outputs": [
        {
          "output_type": "execute_result",
          "data": {
            "text/plain": [
              "      0     1       2       3     4   5     6       7    8    9    ...  112  \\\n",
              "0   69769  -946  0.1613  0.7960  Panl   N  Bus2  0.0742    0    2  ...  1.0   \n",
              "1  236977   -92     NaN     NaN   NaN   Y  Othr     NaN    0    3  ...  NaN   \n",
              "2  168821 -1646  0.1124  0.8504  Panl   N  Bus3  0.0387    0    2  ...  2.0   \n",
              "3   94708 -1651  0.0263     NaN  Blok   N  Bus3     NaN    0    2  ...  4.0   \n",
              "4   84556  -977     NaN     NaN   NaN   N  Rest     NaN    0    2  ...  NaN   \n",
              "\n",
              "    113     114  115 116   117  118     119  120  121  \n",
              "0 -4670  0.9851  0.0   0  Mard  0.0  0.3333    0    0  \n",
              "1 -1994     NaN  NaN   0  Mard  0.0     NaN    0    0  \n",
              "2 -2842  0.9891  0.0   0  Sind  0.0  0.3750    0    1  \n",
              "3 -1345  0.9682  0.0   0  Sind  0.0  0.0417    0    1  \n",
              "4  -852     NaN  NaN   0  Sind  0.0     NaN    0    0  \n",
              "\n",
              "[5 rows x 122 columns]"
            ],
            "text/html": [
              "\n",
              "  <div id=\"df-1e901d3e-b551-4f81-83f5-23bf76d46449\">\n",
              "    <div class=\"colab-df-container\">\n",
              "      <div>\n",
              "<style scoped>\n",
              "    .dataframe tbody tr th:only-of-type {\n",
              "        vertical-align: middle;\n",
              "    }\n",
              "\n",
              "    .dataframe tbody tr th {\n",
              "        vertical-align: top;\n",
              "    }\n",
              "\n",
              "    .dataframe thead th {\n",
              "        text-align: right;\n",
              "    }\n",
              "</style>\n",
              "<table border=\"1\" class=\"dataframe\">\n",
              "  <thead>\n",
              "    <tr style=\"text-align: right;\">\n",
              "      <th></th>\n",
              "      <th>0</th>\n",
              "      <th>1</th>\n",
              "      <th>2</th>\n",
              "      <th>3</th>\n",
              "      <th>4</th>\n",
              "      <th>5</th>\n",
              "      <th>6</th>\n",
              "      <th>7</th>\n",
              "      <th>8</th>\n",
              "      <th>9</th>\n",
              "      <th>...</th>\n",
              "      <th>112</th>\n",
              "      <th>113</th>\n",
              "      <th>114</th>\n",
              "      <th>115</th>\n",
              "      <th>116</th>\n",
              "      <th>117</th>\n",
              "      <th>118</th>\n",
              "      <th>119</th>\n",
              "      <th>120</th>\n",
              "      <th>121</th>\n",
              "    </tr>\n",
              "  </thead>\n",
              "  <tbody>\n",
              "    <tr>\n",
              "      <th>0</th>\n",
              "      <td>69769</td>\n",
              "      <td>-946</td>\n",
              "      <td>0.1613</td>\n",
              "      <td>0.7960</td>\n",
              "      <td>Panl</td>\n",
              "      <td>N</td>\n",
              "      <td>Bus2</td>\n",
              "      <td>0.0742</td>\n",
              "      <td>0</td>\n",
              "      <td>2</td>\n",
              "      <td>...</td>\n",
              "      <td>1.0</td>\n",
              "      <td>-4670</td>\n",
              "      <td>0.9851</td>\n",
              "      <td>0.0</td>\n",
              "      <td>0</td>\n",
              "      <td>Mard</td>\n",
              "      <td>0.0</td>\n",
              "      <td>0.3333</td>\n",
              "      <td>0</td>\n",
              "      <td>0</td>\n",
              "    </tr>\n",
              "    <tr>\n",
              "      <th>1</th>\n",
              "      <td>236977</td>\n",
              "      <td>-92</td>\n",
              "      <td>NaN</td>\n",
              "      <td>NaN</td>\n",
              "      <td>NaN</td>\n",
              "      <td>Y</td>\n",
              "      <td>Othr</td>\n",
              "      <td>NaN</td>\n",
              "      <td>0</td>\n",
              "      <td>3</td>\n",
              "      <td>...</td>\n",
              "      <td>NaN</td>\n",
              "      <td>-1994</td>\n",
              "      <td>NaN</td>\n",
              "      <td>NaN</td>\n",
              "      <td>0</td>\n",
              "      <td>Mard</td>\n",
              "      <td>0.0</td>\n",
              "      <td>NaN</td>\n",
              "      <td>0</td>\n",
              "      <td>0</td>\n",
              "    </tr>\n",
              "    <tr>\n",
              "      <th>2</th>\n",
              "      <td>168821</td>\n",
              "      <td>-1646</td>\n",
              "      <td>0.1124</td>\n",
              "      <td>0.8504</td>\n",
              "      <td>Panl</td>\n",
              "      <td>N</td>\n",
              "      <td>Bus3</td>\n",
              "      <td>0.0387</td>\n",
              "      <td>0</td>\n",
              "      <td>2</td>\n",
              "      <td>...</td>\n",
              "      <td>2.0</td>\n",
              "      <td>-2842</td>\n",
              "      <td>0.9891</td>\n",
              "      <td>0.0</td>\n",
              "      <td>0</td>\n",
              "      <td>Sind</td>\n",
              "      <td>0.0</td>\n",
              "      <td>0.3750</td>\n",
              "      <td>0</td>\n",
              "      <td>1</td>\n",
              "    </tr>\n",
              "    <tr>\n",
              "      <th>3</th>\n",
              "      <td>94708</td>\n",
              "      <td>-1651</td>\n",
              "      <td>0.0263</td>\n",
              "      <td>NaN</td>\n",
              "      <td>Blok</td>\n",
              "      <td>N</td>\n",
              "      <td>Bus3</td>\n",
              "      <td>NaN</td>\n",
              "      <td>0</td>\n",
              "      <td>2</td>\n",
              "      <td>...</td>\n",
              "      <td>4.0</td>\n",
              "      <td>-1345</td>\n",
              "      <td>0.9682</td>\n",
              "      <td>0.0</td>\n",
              "      <td>0</td>\n",
              "      <td>Sind</td>\n",
              "      <td>0.0</td>\n",
              "      <td>0.0417</td>\n",
              "      <td>0</td>\n",
              "      <td>1</td>\n",
              "    </tr>\n",
              "    <tr>\n",
              "      <th>4</th>\n",
              "      <td>84556</td>\n",
              "      <td>-977</td>\n",
              "      <td>NaN</td>\n",
              "      <td>NaN</td>\n",
              "      <td>NaN</td>\n",
              "      <td>N</td>\n",
              "      <td>Rest</td>\n",
              "      <td>NaN</td>\n",
              "      <td>0</td>\n",
              "      <td>2</td>\n",
              "      <td>...</td>\n",
              "      <td>NaN</td>\n",
              "      <td>-852</td>\n",
              "      <td>NaN</td>\n",
              "      <td>NaN</td>\n",
              "      <td>0</td>\n",
              "      <td>Sind</td>\n",
              "      <td>0.0</td>\n",
              "      <td>NaN</td>\n",
              "      <td>0</td>\n",
              "      <td>0</td>\n",
              "    </tr>\n",
              "  </tbody>\n",
              "</table>\n",
              "<p>5 rows × 122 columns</p>\n",
              "</div>\n",
              "      <button class=\"colab-df-convert\" onclick=\"convertToInteractive('df-1e901d3e-b551-4f81-83f5-23bf76d46449')\"\n",
              "              title=\"Convert this dataframe to an interactive table.\"\n",
              "              style=\"display:none;\">\n",
              "        \n",
              "  <svg xmlns=\"http://www.w3.org/2000/svg\" height=\"24px\"viewBox=\"0 0 24 24\"\n",
              "       width=\"24px\">\n",
              "    <path d=\"M0 0h24v24H0V0z\" fill=\"none\"/>\n",
              "    <path d=\"M18.56 5.44l.94 2.06.94-2.06 2.06-.94-2.06-.94-.94-2.06-.94 2.06-2.06.94zm-11 1L8.5 8.5l.94-2.06 2.06-.94-2.06-.94L8.5 2.5l-.94 2.06-2.06.94zm10 10l.94 2.06.94-2.06 2.06-.94-2.06-.94-.94-2.06-.94 2.06-2.06.94z\"/><path d=\"M17.41 7.96l-1.37-1.37c-.4-.4-.92-.59-1.43-.59-.52 0-1.04.2-1.43.59L10.3 9.45l-7.72 7.72c-.78.78-.78 2.05 0 2.83L4 21.41c.39.39.9.59 1.41.59.51 0 1.02-.2 1.41-.59l7.78-7.78 2.81-2.81c.8-.78.8-2.07 0-2.86zM5.41 20L4 18.59l7.72-7.72 1.47 1.35L5.41 20z\"/>\n",
              "  </svg>\n",
              "      </button>\n",
              "      \n",
              "  <style>\n",
              "    .colab-df-container {\n",
              "      display:flex;\n",
              "      flex-wrap:wrap;\n",
              "      gap: 12px;\n",
              "    }\n",
              "\n",
              "    .colab-df-convert {\n",
              "      background-color: #E8F0FE;\n",
              "      border: none;\n",
              "      border-radius: 50%;\n",
              "      cursor: pointer;\n",
              "      display: none;\n",
              "      fill: #1967D2;\n",
              "      height: 32px;\n",
              "      padding: 0 0 0 0;\n",
              "      width: 32px;\n",
              "    }\n",
              "\n",
              "    .colab-df-convert:hover {\n",
              "      background-color: #E2EBFA;\n",
              "      box-shadow: 0px 1px 2px rgba(60, 64, 67, 0.3), 0px 1px 3px 1px rgba(60, 64, 67, 0.15);\n",
              "      fill: #174EA6;\n",
              "    }\n",
              "\n",
              "    [theme=dark] .colab-df-convert {\n",
              "      background-color: #3B4455;\n",
              "      fill: #D2E3FC;\n",
              "    }\n",
              "\n",
              "    [theme=dark] .colab-df-convert:hover {\n",
              "      background-color: #434B5C;\n",
              "      box-shadow: 0px 1px 3px 1px rgba(0, 0, 0, 0.15);\n",
              "      filter: drop-shadow(0px 1px 2px rgba(0, 0, 0, 0.3));\n",
              "      fill: #FFFFFF;\n",
              "    }\n",
              "  </style>\n",
              "\n",
              "      <script>\n",
              "        const buttonEl =\n",
              "          document.querySelector('#df-1e901d3e-b551-4f81-83f5-23bf76d46449 button.colab-df-convert');\n",
              "        buttonEl.style.display =\n",
              "          google.colab.kernel.accessAllowed ? 'block' : 'none';\n",
              "\n",
              "        async function convertToInteractive(key) {\n",
              "          const element = document.querySelector('#df-1e901d3e-b551-4f81-83f5-23bf76d46449');\n",
              "          const dataTable =\n",
              "            await google.colab.kernel.invokeFunction('convertToInteractive',\n",
              "                                                     [key], {});\n",
              "          if (!dataTable) return;\n",
              "\n",
              "          const docLinkHtml = 'Like what you see? Visit the ' +\n",
              "            '<a target=\"_blank\" href=https://colab.research.google.com/notebooks/data_table.ipynb>data table notebook</a>'\n",
              "            + ' to learn more about interactive tables.';\n",
              "          element.innerHTML = '';\n",
              "          dataTable['output_type'] = 'display_data';\n",
              "          await google.colab.output.renderOutput(dataTable, element);\n",
              "          const docLink = document.createElement('div');\n",
              "          docLink.innerHTML = docLinkHtml;\n",
              "          element.appendChild(docLink);\n",
              "        }\n",
              "      </script>\n",
              "    </div>\n",
              "  </div>\n",
              "  "
            ]
          },
          "metadata": {},
          "execution_count": 7
        }
      ]
    },
    {
      "cell_type": "code",
      "source": [
        "train.tail()"
      ],
      "metadata": {
        "colab": {
          "base_uri": "https://localhost:8080/",
          "height": 235
        },
        "id": "gquVeYVSss5U",
        "outputId": "9af1e3d8-e49f-4542-eaa7-63e955f8624b"
      },
      "execution_count": 8,
      "outputs": [
        {
          "output_type": "execute_result",
          "data": {
            "text/plain": [
              "           0       1       2       3     4   5     6       7    8    9    ...  \\\n",
              "246003  248161    -595     NaN     NaN   NaN   N  Bus3     NaN    0    2  ...   \n",
              "246004  257069   -4334  0.1145  0.8368  Panl   N  Mede  0.1180    0    2  ...   \n",
              "246005  154350  365243  0.3025  0.6056  Mixd   N  XNAA  0.2233    0    2  ...   \n",
              "246006  148183  365243     NaN     NaN   NaN   N  XNAA     NaN    0    3  ...   \n",
              "246007    5167  365243     NaN     NaN   NaN   Y  XNAA     NaN    0    2  ...   \n",
              "\n",
              "        112   113     114     115 116   117  118     119  120  121  \n",
              "246003  NaN -4420     NaN     NaN   0  Mard  0.0     NaN    0    0  \n",
              "246004  4.0 -2561  0.9881  0.0000   0  Sind  0.0  0.3333    0    0  \n",
              "246005  1.0 -4636  0.9712  0.0631   0  Cive  0.0  0.1667    0    0  \n",
              "246006  5.0 -4636     NaN     NaN   0  Mard  0.0     NaN    0    1  \n",
              "246007  3.0 -4266     NaN     NaN   0  Mard  0.0     NaN    0    0  \n",
              "\n",
              "[5 rows x 122 columns]"
            ],
            "text/html": [
              "\n",
              "  <div id=\"df-c6c656bc-3c4d-41ab-86a9-5aa811469b4b\">\n",
              "    <div class=\"colab-df-container\">\n",
              "      <div>\n",
              "<style scoped>\n",
              "    .dataframe tbody tr th:only-of-type {\n",
              "        vertical-align: middle;\n",
              "    }\n",
              "\n",
              "    .dataframe tbody tr th {\n",
              "        vertical-align: top;\n",
              "    }\n",
              "\n",
              "    .dataframe thead th {\n",
              "        text-align: right;\n",
              "    }\n",
              "</style>\n",
              "<table border=\"1\" class=\"dataframe\">\n",
              "  <thead>\n",
              "    <tr style=\"text-align: right;\">\n",
              "      <th></th>\n",
              "      <th>0</th>\n",
              "      <th>1</th>\n",
              "      <th>2</th>\n",
              "      <th>3</th>\n",
              "      <th>4</th>\n",
              "      <th>5</th>\n",
              "      <th>6</th>\n",
              "      <th>7</th>\n",
              "      <th>8</th>\n",
              "      <th>9</th>\n",
              "      <th>...</th>\n",
              "      <th>112</th>\n",
              "      <th>113</th>\n",
              "      <th>114</th>\n",
              "      <th>115</th>\n",
              "      <th>116</th>\n",
              "      <th>117</th>\n",
              "      <th>118</th>\n",
              "      <th>119</th>\n",
              "      <th>120</th>\n",
              "      <th>121</th>\n",
              "    </tr>\n",
              "  </thead>\n",
              "  <tbody>\n",
              "    <tr>\n",
              "      <th>246003</th>\n",
              "      <td>248161</td>\n",
              "      <td>-595</td>\n",
              "      <td>NaN</td>\n",
              "      <td>NaN</td>\n",
              "      <td>NaN</td>\n",
              "      <td>N</td>\n",
              "      <td>Bus3</td>\n",
              "      <td>NaN</td>\n",
              "      <td>0</td>\n",
              "      <td>2</td>\n",
              "      <td>...</td>\n",
              "      <td>NaN</td>\n",
              "      <td>-4420</td>\n",
              "      <td>NaN</td>\n",
              "      <td>NaN</td>\n",
              "      <td>0</td>\n",
              "      <td>Mard</td>\n",
              "      <td>0.0</td>\n",
              "      <td>NaN</td>\n",
              "      <td>0</td>\n",
              "      <td>0</td>\n",
              "    </tr>\n",
              "    <tr>\n",
              "      <th>246004</th>\n",
              "      <td>257069</td>\n",
              "      <td>-4334</td>\n",
              "      <td>0.1145</td>\n",
              "      <td>0.8368</td>\n",
              "      <td>Panl</td>\n",
              "      <td>N</td>\n",
              "      <td>Mede</td>\n",
              "      <td>0.1180</td>\n",
              "      <td>0</td>\n",
              "      <td>2</td>\n",
              "      <td>...</td>\n",
              "      <td>4.0</td>\n",
              "      <td>-2561</td>\n",
              "      <td>0.9881</td>\n",
              "      <td>0.0000</td>\n",
              "      <td>0</td>\n",
              "      <td>Sind</td>\n",
              "      <td>0.0</td>\n",
              "      <td>0.3333</td>\n",
              "      <td>0</td>\n",
              "      <td>0</td>\n",
              "    </tr>\n",
              "    <tr>\n",
              "      <th>246005</th>\n",
              "      <td>154350</td>\n",
              "      <td>365243</td>\n",
              "      <td>0.3025</td>\n",
              "      <td>0.6056</td>\n",
              "      <td>Mixd</td>\n",
              "      <td>N</td>\n",
              "      <td>XNAA</td>\n",
              "      <td>0.2233</td>\n",
              "      <td>0</td>\n",
              "      <td>2</td>\n",
              "      <td>...</td>\n",
              "      <td>1.0</td>\n",
              "      <td>-4636</td>\n",
              "      <td>0.9712</td>\n",
              "      <td>0.0631</td>\n",
              "      <td>0</td>\n",
              "      <td>Cive</td>\n",
              "      <td>0.0</td>\n",
              "      <td>0.1667</td>\n",
              "      <td>0</td>\n",
              "      <td>0</td>\n",
              "    </tr>\n",
              "    <tr>\n",
              "      <th>246006</th>\n",
              "      <td>148183</td>\n",
              "      <td>365243</td>\n",
              "      <td>NaN</td>\n",
              "      <td>NaN</td>\n",
              "      <td>NaN</td>\n",
              "      <td>N</td>\n",
              "      <td>XNAA</td>\n",
              "      <td>NaN</td>\n",
              "      <td>0</td>\n",
              "      <td>3</td>\n",
              "      <td>...</td>\n",
              "      <td>5.0</td>\n",
              "      <td>-4636</td>\n",
              "      <td>NaN</td>\n",
              "      <td>NaN</td>\n",
              "      <td>0</td>\n",
              "      <td>Mard</td>\n",
              "      <td>0.0</td>\n",
              "      <td>NaN</td>\n",
              "      <td>0</td>\n",
              "      <td>1</td>\n",
              "    </tr>\n",
              "    <tr>\n",
              "      <th>246007</th>\n",
              "      <td>5167</td>\n",
              "      <td>365243</td>\n",
              "      <td>NaN</td>\n",
              "      <td>NaN</td>\n",
              "      <td>NaN</td>\n",
              "      <td>Y</td>\n",
              "      <td>XNAA</td>\n",
              "      <td>NaN</td>\n",
              "      <td>0</td>\n",
              "      <td>2</td>\n",
              "      <td>...</td>\n",
              "      <td>3.0</td>\n",
              "      <td>-4266</td>\n",
              "      <td>NaN</td>\n",
              "      <td>NaN</td>\n",
              "      <td>0</td>\n",
              "      <td>Mard</td>\n",
              "      <td>0.0</td>\n",
              "      <td>NaN</td>\n",
              "      <td>0</td>\n",
              "      <td>0</td>\n",
              "    </tr>\n",
              "  </tbody>\n",
              "</table>\n",
              "<p>5 rows × 122 columns</p>\n",
              "</div>\n",
              "      <button class=\"colab-df-convert\" onclick=\"convertToInteractive('df-c6c656bc-3c4d-41ab-86a9-5aa811469b4b')\"\n",
              "              title=\"Convert this dataframe to an interactive table.\"\n",
              "              style=\"display:none;\">\n",
              "        \n",
              "  <svg xmlns=\"http://www.w3.org/2000/svg\" height=\"24px\"viewBox=\"0 0 24 24\"\n",
              "       width=\"24px\">\n",
              "    <path d=\"M0 0h24v24H0V0z\" fill=\"none\"/>\n",
              "    <path d=\"M18.56 5.44l.94 2.06.94-2.06 2.06-.94-2.06-.94-.94-2.06-.94 2.06-2.06.94zm-11 1L8.5 8.5l.94-2.06 2.06-.94-2.06-.94L8.5 2.5l-.94 2.06-2.06.94zm10 10l.94 2.06.94-2.06 2.06-.94-2.06-.94-.94-2.06-.94 2.06-2.06.94z\"/><path d=\"M17.41 7.96l-1.37-1.37c-.4-.4-.92-.59-1.43-.59-.52 0-1.04.2-1.43.59L10.3 9.45l-7.72 7.72c-.78.78-.78 2.05 0 2.83L4 21.41c.39.39.9.59 1.41.59.51 0 1.02-.2 1.41-.59l7.78-7.78 2.81-2.81c.8-.78.8-2.07 0-2.86zM5.41 20L4 18.59l7.72-7.72 1.47 1.35L5.41 20z\"/>\n",
              "  </svg>\n",
              "      </button>\n",
              "      \n",
              "  <style>\n",
              "    .colab-df-container {\n",
              "      display:flex;\n",
              "      flex-wrap:wrap;\n",
              "      gap: 12px;\n",
              "    }\n",
              "\n",
              "    .colab-df-convert {\n",
              "      background-color: #E8F0FE;\n",
              "      border: none;\n",
              "      border-radius: 50%;\n",
              "      cursor: pointer;\n",
              "      display: none;\n",
              "      fill: #1967D2;\n",
              "      height: 32px;\n",
              "      padding: 0 0 0 0;\n",
              "      width: 32px;\n",
              "    }\n",
              "\n",
              "    .colab-df-convert:hover {\n",
              "      background-color: #E2EBFA;\n",
              "      box-shadow: 0px 1px 2px rgba(60, 64, 67, 0.3), 0px 1px 3px 1px rgba(60, 64, 67, 0.15);\n",
              "      fill: #174EA6;\n",
              "    }\n",
              "\n",
              "    [theme=dark] .colab-df-convert {\n",
              "      background-color: #3B4455;\n",
              "      fill: #D2E3FC;\n",
              "    }\n",
              "\n",
              "    [theme=dark] .colab-df-convert:hover {\n",
              "      background-color: #434B5C;\n",
              "      box-shadow: 0px 1px 3px 1px rgba(0, 0, 0, 0.15);\n",
              "      filter: drop-shadow(0px 1px 2px rgba(0, 0, 0, 0.3));\n",
              "      fill: #FFFFFF;\n",
              "    }\n",
              "  </style>\n",
              "\n",
              "      <script>\n",
              "        const buttonEl =\n",
              "          document.querySelector('#df-c6c656bc-3c4d-41ab-86a9-5aa811469b4b button.colab-df-convert');\n",
              "        buttonEl.style.display =\n",
              "          google.colab.kernel.accessAllowed ? 'block' : 'none';\n",
              "\n",
              "        async function convertToInteractive(key) {\n",
              "          const element = document.querySelector('#df-c6c656bc-3c4d-41ab-86a9-5aa811469b4b');\n",
              "          const dataTable =\n",
              "            await google.colab.kernel.invokeFunction('convertToInteractive',\n",
              "                                                     [key], {});\n",
              "          if (!dataTable) return;\n",
              "\n",
              "          const docLinkHtml = 'Like what you see? Visit the ' +\n",
              "            '<a target=\"_blank\" href=https://colab.research.google.com/notebooks/data_table.ipynb>data table notebook</a>'\n",
              "            + ' to learn more about interactive tables.';\n",
              "          element.innerHTML = '';\n",
              "          dataTable['output_type'] = 'display_data';\n",
              "          await google.colab.output.renderOutput(dataTable, element);\n",
              "          const docLink = document.createElement('div');\n",
              "          docLink.innerHTML = docLinkHtml;\n",
              "          element.appendChild(docLink);\n",
              "        }\n",
              "      </script>\n",
              "    </div>\n",
              "  </div>\n",
              "  "
            ]
          },
          "metadata": {},
          "execution_count": 8
        }
      ]
    },
    {
      "cell_type": "code",
      "source": [
        "train.info()"
      ],
      "metadata": {
        "colab": {
          "base_uri": "https://localhost:8080/"
        },
        "id": "dqv6FOOTzHtB",
        "outputId": "4f52eb66-685d-443c-cd3d-8700967979fa"
      },
      "execution_count": 9,
      "outputs": [
        {
          "output_type": "stream",
          "name": "stdout",
          "text": [
            "<class 'pandas.core.frame.DataFrame'>\n",
            "RangeIndex: 246008 entries, 0 to 246007\n",
            "Columns: 122 entries, 0 to 121\n",
            "dtypes: float64(65), int64(41), object(16)\n",
            "memory usage: 229.0+ MB\n"
          ]
        }
      ]
    },
    {
      "cell_type": "code",
      "source": [
        "train.describe()"
      ],
      "metadata": {
        "colab": {
          "base_uri": "https://localhost:8080/",
          "height": 393
        },
        "id": "V2w3eIY7zL2F",
        "outputId": "9a19efd2-8ab3-40e0-ee8f-e5089793a0f3"
      },
      "execution_count": 10,
      "outputs": [
        {
          "output_type": "execute_result",
          "data": {
            "text/plain": [
              "                 0              1              2             3    \\\n",
              "count  246008.000000  246008.000000  102179.000000  82465.000000   \n",
              "mean   153682.293458   63581.163637       0.088517      0.752671   \n",
              "std     88793.060523  141081.696923       0.082581      0.113380   \n",
              "min         1.000000  -17912.000000       0.000000      0.000000   \n",
              "25%     76829.750000   -2762.000000       0.044200      0.687200   \n",
              "50%    153532.500000   -1215.000000       0.076400      0.755200   \n",
              "75%    230723.250000    -291.000000       0.112300      0.823200   \n",
              "max    307511.000000  365243.000000       1.000000      1.000000   \n",
              "\n",
              "                7              8              9              10   \\\n",
              "count  74197.000000  246008.000000  246008.000000  122546.000000   \n",
              "mean       0.042520       0.003382       2.031462       0.107454   \n",
              "std        0.074059       0.058057       0.502598       0.110625   \n",
              "min        0.000000       0.000000       1.000000       0.000000   \n",
              "25%        0.007200       0.000000       2.000000       0.045300   \n",
              "50%        0.019100       0.000000       2.000000       0.074400   \n",
              "75%        0.049100       0.000000       2.000000       0.130200   \n",
              "max        1.000000       1.000000       3.000000       1.000000   \n",
              "\n",
              "                 11             12   ...           111            112  \\\n",
              "count  100023.000000  212764.000000  ...  77889.000000  212764.000000   \n",
              "mean        0.066357       0.267103  ...      0.101908       1.897469   \n",
              "std         0.081432       0.917724  ...      0.093524       1.868143   \n",
              "min         0.000000       0.000000  ...      0.000000       0.000000   \n",
              "25%         0.018700       0.000000  ...      0.051300       0.000000   \n",
              "50%         0.048200       0.000000  ...      0.076100       1.000000   \n",
              "75%         0.085700       0.000000  ...      0.123100       3.000000   \n",
              "max         1.000000      27.000000  ...      1.000000      25.000000   \n",
              "\n",
              "                 113            114            115            116  \\\n",
              "count  246008.000000  126059.000000  110384.000000  246008.000000   \n",
              "mean    -2994.150438       0.976972       0.027191       0.000004   \n",
              "std      1508.274570       0.065338       0.070493       0.002016   \n",
              "min     -7197.000000       0.000000       0.000000       0.000000   \n",
              "25%     -4298.000000       0.976700       0.000000       0.000000   \n",
              "50%     -3255.000000       0.981600       0.001100       0.000000   \n",
              "75%     -1720.000000       0.986600       0.023225       0.000000   \n",
              "max         0.000000       1.000000       1.000000       1.000000   \n",
              "\n",
              "                 118            119            120            121  \n",
              "count  245197.000000  123711.000000  246008.000000  246008.000000  \n",
              "mean        0.143481       0.226187       0.081392       0.080729  \n",
              "std         0.447988       0.144506       0.273436       0.272419  \n",
              "min         0.000000       0.000000       0.000000       0.000000  \n",
              "25%         0.000000       0.166700       0.000000       0.000000  \n",
              "50%         0.000000       0.166700       0.000000       0.000000  \n",
              "75%         0.000000       0.333300       0.000000       0.000000  \n",
              "max        34.000000       1.000000       1.000000       1.000000  \n",
              "\n",
              "[8 rows x 106 columns]"
            ],
            "text/html": [
              "\n",
              "  <div id=\"df-72a88ddb-8f0d-4ded-b7a1-5feeae423ee4\">\n",
              "    <div class=\"colab-df-container\">\n",
              "      <div>\n",
              "<style scoped>\n",
              "    .dataframe tbody tr th:only-of-type {\n",
              "        vertical-align: middle;\n",
              "    }\n",
              "\n",
              "    .dataframe tbody tr th {\n",
              "        vertical-align: top;\n",
              "    }\n",
              "\n",
              "    .dataframe thead th {\n",
              "        text-align: right;\n",
              "    }\n",
              "</style>\n",
              "<table border=\"1\" class=\"dataframe\">\n",
              "  <thead>\n",
              "    <tr style=\"text-align: right;\">\n",
              "      <th></th>\n",
              "      <th>0</th>\n",
              "      <th>1</th>\n",
              "      <th>2</th>\n",
              "      <th>3</th>\n",
              "      <th>7</th>\n",
              "      <th>8</th>\n",
              "      <th>9</th>\n",
              "      <th>10</th>\n",
              "      <th>11</th>\n",
              "      <th>12</th>\n",
              "      <th>...</th>\n",
              "      <th>111</th>\n",
              "      <th>112</th>\n",
              "      <th>113</th>\n",
              "      <th>114</th>\n",
              "      <th>115</th>\n",
              "      <th>116</th>\n",
              "      <th>118</th>\n",
              "      <th>119</th>\n",
              "      <th>120</th>\n",
              "      <th>121</th>\n",
              "    </tr>\n",
              "  </thead>\n",
              "  <tbody>\n",
              "    <tr>\n",
              "      <th>count</th>\n",
              "      <td>246008.000000</td>\n",
              "      <td>246008.000000</td>\n",
              "      <td>102179.000000</td>\n",
              "      <td>82465.000000</td>\n",
              "      <td>74197.000000</td>\n",
              "      <td>246008.000000</td>\n",
              "      <td>246008.000000</td>\n",
              "      <td>122546.000000</td>\n",
              "      <td>100023.000000</td>\n",
              "      <td>212764.000000</td>\n",
              "      <td>...</td>\n",
              "      <td>77889.000000</td>\n",
              "      <td>212764.000000</td>\n",
              "      <td>246008.000000</td>\n",
              "      <td>126059.000000</td>\n",
              "      <td>110384.000000</td>\n",
              "      <td>246008.000000</td>\n",
              "      <td>245197.000000</td>\n",
              "      <td>123711.000000</td>\n",
              "      <td>246008.000000</td>\n",
              "      <td>246008.000000</td>\n",
              "    </tr>\n",
              "    <tr>\n",
              "      <th>mean</th>\n",
              "      <td>153682.293458</td>\n",
              "      <td>63581.163637</td>\n",
              "      <td>0.088517</td>\n",
              "      <td>0.752671</td>\n",
              "      <td>0.042520</td>\n",
              "      <td>0.003382</td>\n",
              "      <td>2.031462</td>\n",
              "      <td>0.107454</td>\n",
              "      <td>0.066357</td>\n",
              "      <td>0.267103</td>\n",
              "      <td>...</td>\n",
              "      <td>0.101908</td>\n",
              "      <td>1.897469</td>\n",
              "      <td>-2994.150438</td>\n",
              "      <td>0.976972</td>\n",
              "      <td>0.027191</td>\n",
              "      <td>0.000004</td>\n",
              "      <td>0.143481</td>\n",
              "      <td>0.226187</td>\n",
              "      <td>0.081392</td>\n",
              "      <td>0.080729</td>\n",
              "    </tr>\n",
              "    <tr>\n",
              "      <th>std</th>\n",
              "      <td>88793.060523</td>\n",
              "      <td>141081.696923</td>\n",
              "      <td>0.082581</td>\n",
              "      <td>0.113380</td>\n",
              "      <td>0.074059</td>\n",
              "      <td>0.058057</td>\n",
              "      <td>0.502598</td>\n",
              "      <td>0.110625</td>\n",
              "      <td>0.081432</td>\n",
              "      <td>0.917724</td>\n",
              "      <td>...</td>\n",
              "      <td>0.093524</td>\n",
              "      <td>1.868143</td>\n",
              "      <td>1508.274570</td>\n",
              "      <td>0.065338</td>\n",
              "      <td>0.070493</td>\n",
              "      <td>0.002016</td>\n",
              "      <td>0.447988</td>\n",
              "      <td>0.144506</td>\n",
              "      <td>0.273436</td>\n",
              "      <td>0.272419</td>\n",
              "    </tr>\n",
              "    <tr>\n",
              "      <th>min</th>\n",
              "      <td>1.000000</td>\n",
              "      <td>-17912.000000</td>\n",
              "      <td>0.000000</td>\n",
              "      <td>0.000000</td>\n",
              "      <td>0.000000</td>\n",
              "      <td>0.000000</td>\n",
              "      <td>1.000000</td>\n",
              "      <td>0.000000</td>\n",
              "      <td>0.000000</td>\n",
              "      <td>0.000000</td>\n",
              "      <td>...</td>\n",
              "      <td>0.000000</td>\n",
              "      <td>0.000000</td>\n",
              "      <td>-7197.000000</td>\n",
              "      <td>0.000000</td>\n",
              "      <td>0.000000</td>\n",
              "      <td>0.000000</td>\n",
              "      <td>0.000000</td>\n",
              "      <td>0.000000</td>\n",
              "      <td>0.000000</td>\n",
              "      <td>0.000000</td>\n",
              "    </tr>\n",
              "    <tr>\n",
              "      <th>25%</th>\n",
              "      <td>76829.750000</td>\n",
              "      <td>-2762.000000</td>\n",
              "      <td>0.044200</td>\n",
              "      <td>0.687200</td>\n",
              "      <td>0.007200</td>\n",
              "      <td>0.000000</td>\n",
              "      <td>2.000000</td>\n",
              "      <td>0.045300</td>\n",
              "      <td>0.018700</td>\n",
              "      <td>0.000000</td>\n",
              "      <td>...</td>\n",
              "      <td>0.051300</td>\n",
              "      <td>0.000000</td>\n",
              "      <td>-4298.000000</td>\n",
              "      <td>0.976700</td>\n",
              "      <td>0.000000</td>\n",
              "      <td>0.000000</td>\n",
              "      <td>0.000000</td>\n",
              "      <td>0.166700</td>\n",
              "      <td>0.000000</td>\n",
              "      <td>0.000000</td>\n",
              "    </tr>\n",
              "    <tr>\n",
              "      <th>50%</th>\n",
              "      <td>153532.500000</td>\n",
              "      <td>-1215.000000</td>\n",
              "      <td>0.076400</td>\n",
              "      <td>0.755200</td>\n",
              "      <td>0.019100</td>\n",
              "      <td>0.000000</td>\n",
              "      <td>2.000000</td>\n",
              "      <td>0.074400</td>\n",
              "      <td>0.048200</td>\n",
              "      <td>0.000000</td>\n",
              "      <td>...</td>\n",
              "      <td>0.076100</td>\n",
              "      <td>1.000000</td>\n",
              "      <td>-3255.000000</td>\n",
              "      <td>0.981600</td>\n",
              "      <td>0.001100</td>\n",
              "      <td>0.000000</td>\n",
              "      <td>0.000000</td>\n",
              "      <td>0.166700</td>\n",
              "      <td>0.000000</td>\n",
              "      <td>0.000000</td>\n",
              "    </tr>\n",
              "    <tr>\n",
              "      <th>75%</th>\n",
              "      <td>230723.250000</td>\n",
              "      <td>-291.000000</td>\n",
              "      <td>0.112300</td>\n",
              "      <td>0.823200</td>\n",
              "      <td>0.049100</td>\n",
              "      <td>0.000000</td>\n",
              "      <td>2.000000</td>\n",
              "      <td>0.130200</td>\n",
              "      <td>0.085700</td>\n",
              "      <td>0.000000</td>\n",
              "      <td>...</td>\n",
              "      <td>0.123100</td>\n",
              "      <td>3.000000</td>\n",
              "      <td>-1720.000000</td>\n",
              "      <td>0.986600</td>\n",
              "      <td>0.023225</td>\n",
              "      <td>0.000000</td>\n",
              "      <td>0.000000</td>\n",
              "      <td>0.333300</td>\n",
              "      <td>0.000000</td>\n",
              "      <td>0.000000</td>\n",
              "    </tr>\n",
              "    <tr>\n",
              "      <th>max</th>\n",
              "      <td>307511.000000</td>\n",
              "      <td>365243.000000</td>\n",
              "      <td>1.000000</td>\n",
              "      <td>1.000000</td>\n",
              "      <td>1.000000</td>\n",
              "      <td>1.000000</td>\n",
              "      <td>3.000000</td>\n",
              "      <td>1.000000</td>\n",
              "      <td>1.000000</td>\n",
              "      <td>27.000000</td>\n",
              "      <td>...</td>\n",
              "      <td>1.000000</td>\n",
              "      <td>25.000000</td>\n",
              "      <td>0.000000</td>\n",
              "      <td>1.000000</td>\n",
              "      <td>1.000000</td>\n",
              "      <td>1.000000</td>\n",
              "      <td>34.000000</td>\n",
              "      <td>1.000000</td>\n",
              "      <td>1.000000</td>\n",
              "      <td>1.000000</td>\n",
              "    </tr>\n",
              "  </tbody>\n",
              "</table>\n",
              "<p>8 rows × 106 columns</p>\n",
              "</div>\n",
              "      <button class=\"colab-df-convert\" onclick=\"convertToInteractive('df-72a88ddb-8f0d-4ded-b7a1-5feeae423ee4')\"\n",
              "              title=\"Convert this dataframe to an interactive table.\"\n",
              "              style=\"display:none;\">\n",
              "        \n",
              "  <svg xmlns=\"http://www.w3.org/2000/svg\" height=\"24px\"viewBox=\"0 0 24 24\"\n",
              "       width=\"24px\">\n",
              "    <path d=\"M0 0h24v24H0V0z\" fill=\"none\"/>\n",
              "    <path d=\"M18.56 5.44l.94 2.06.94-2.06 2.06-.94-2.06-.94-.94-2.06-.94 2.06-2.06.94zm-11 1L8.5 8.5l.94-2.06 2.06-.94-2.06-.94L8.5 2.5l-.94 2.06-2.06.94zm10 10l.94 2.06.94-2.06 2.06-.94-2.06-.94-.94-2.06-.94 2.06-2.06.94z\"/><path d=\"M17.41 7.96l-1.37-1.37c-.4-.4-.92-.59-1.43-.59-.52 0-1.04.2-1.43.59L10.3 9.45l-7.72 7.72c-.78.78-.78 2.05 0 2.83L4 21.41c.39.39.9.59 1.41.59.51 0 1.02-.2 1.41-.59l7.78-7.78 2.81-2.81c.8-.78.8-2.07 0-2.86zM5.41 20L4 18.59l7.72-7.72 1.47 1.35L5.41 20z\"/>\n",
              "  </svg>\n",
              "      </button>\n",
              "      \n",
              "  <style>\n",
              "    .colab-df-container {\n",
              "      display:flex;\n",
              "      flex-wrap:wrap;\n",
              "      gap: 12px;\n",
              "    }\n",
              "\n",
              "    .colab-df-convert {\n",
              "      background-color: #E8F0FE;\n",
              "      border: none;\n",
              "      border-radius: 50%;\n",
              "      cursor: pointer;\n",
              "      display: none;\n",
              "      fill: #1967D2;\n",
              "      height: 32px;\n",
              "      padding: 0 0 0 0;\n",
              "      width: 32px;\n",
              "    }\n",
              "\n",
              "    .colab-df-convert:hover {\n",
              "      background-color: #E2EBFA;\n",
              "      box-shadow: 0px 1px 2px rgba(60, 64, 67, 0.3), 0px 1px 3px 1px rgba(60, 64, 67, 0.15);\n",
              "      fill: #174EA6;\n",
              "    }\n",
              "\n",
              "    [theme=dark] .colab-df-convert {\n",
              "      background-color: #3B4455;\n",
              "      fill: #D2E3FC;\n",
              "    }\n",
              "\n",
              "    [theme=dark] .colab-df-convert:hover {\n",
              "      background-color: #434B5C;\n",
              "      box-shadow: 0px 1px 3px 1px rgba(0, 0, 0, 0.15);\n",
              "      filter: drop-shadow(0px 1px 2px rgba(0, 0, 0, 0.3));\n",
              "      fill: #FFFFFF;\n",
              "    }\n",
              "  </style>\n",
              "\n",
              "      <script>\n",
              "        const buttonEl =\n",
              "          document.querySelector('#df-72a88ddb-8f0d-4ded-b7a1-5feeae423ee4 button.colab-df-convert');\n",
              "        buttonEl.style.display =\n",
              "          google.colab.kernel.accessAllowed ? 'block' : 'none';\n",
              "\n",
              "        async function convertToInteractive(key) {\n",
              "          const element = document.querySelector('#df-72a88ddb-8f0d-4ded-b7a1-5feeae423ee4');\n",
              "          const dataTable =\n",
              "            await google.colab.kernel.invokeFunction('convertToInteractive',\n",
              "                                                     [key], {});\n",
              "          if (!dataTable) return;\n",
              "\n",
              "          const docLinkHtml = 'Like what you see? Visit the ' +\n",
              "            '<a target=\"_blank\" href=https://colab.research.google.com/notebooks/data_table.ipynb>data table notebook</a>'\n",
              "            + ' to learn more about interactive tables.';\n",
              "          element.innerHTML = '';\n",
              "          dataTable['output_type'] = 'display_data';\n",
              "          await google.colab.output.renderOutput(dataTable, element);\n",
              "          const docLink = document.createElement('div');\n",
              "          docLink.innerHTML = docLinkHtml;\n",
              "          element.appendChild(docLink);\n",
              "        }\n",
              "      </script>\n",
              "    </div>\n",
              "  </div>\n",
              "  "
            ]
          },
          "metadata": {},
          "execution_count": 10
        }
      ]
    },
    {
      "cell_type": "code",
      "source": [
        "train.shape"
      ],
      "metadata": {
        "colab": {
          "base_uri": "https://localhost:8080/"
        },
        "id": "DkGGGYI9sxNz",
        "outputId": "da302b5a-224c-46d1-8e5e-99d68cdc925d"
      },
      "execution_count": 11,
      "outputs": [
        {
          "output_type": "execute_result",
          "data": {
            "text/plain": [
              "(246008, 122)"
            ]
          },
          "metadata": {},
          "execution_count": 11
        }
      ]
    },
    {
      "cell_type": "code",
      "source": [
        "train.dtypes"
      ],
      "metadata": {
        "colab": {
          "base_uri": "https://localhost:8080/"
        },
        "id": "YjUTZGqJszFI",
        "outputId": "190e15dd-6ff4-4fa1-a4f3-0d0c0dd5f963"
      },
      "execution_count": 12,
      "outputs": [
        {
          "output_type": "execute_result",
          "data": {
            "text/plain": [
              "0        int64\n",
              "1        int64\n",
              "2      float64\n",
              "3      float64\n",
              "4       object\n",
              "        ...   \n",
              "117     object\n",
              "118    float64\n",
              "119    float64\n",
              "120      int64\n",
              "121      int64\n",
              "Length: 122, dtype: object"
            ]
          },
          "metadata": {},
          "execution_count": 12
        }
      ]
    },
    {
      "cell_type": "code",
      "source": [
        "#find the total number of missing values for each column \n",
        "train.isnull().sum()"
      ],
      "metadata": {
        "colab": {
          "base_uri": "https://localhost:8080/"
        },
        "id": "2VO9cvJhs2tY",
        "outputId": "6f0e78f4-d3af-4ba5-a203-46f9262cd309"
      },
      "execution_count": 13,
      "outputs": [
        {
          "output_type": "execute_result",
          "data": {
            "text/plain": [
              "0           0\n",
              "1           0\n",
              "2      143829\n",
              "3      163543\n",
              "4      124975\n",
              "        ...  \n",
              "117         0\n",
              "118       811\n",
              "119    122297\n",
              "120         0\n",
              "121         0\n",
              "Length: 122, dtype: int64"
            ]
          },
          "metadata": {},
          "execution_count": 13
        }
      ]
    },
    {
      "cell_type": "markdown",
      "source": [
        "# Eksik değerleri kaldırın\n",
        "train = train.dropna() \n",
        "berkanta sor hepsini sildi mi? bu kodla siliyor mu? head() de 0,2,13 diye atlıyor. "
      ],
      "metadata": {
        "id": "_L_jBV_80tBx"
      }
    },
    {
      "cell_type": "code",
      "source": [
        "\n",
        "# Eksik değerleri ortalama değerlerle doldurun\n",
        "train = train.fillna(train.mean())\n",
        "# Eksik değerleri kaldırın\n",
        "train = train.dropna()\n",
        "\n"
      ],
      "metadata": {
        "colab": {
          "base_uri": "https://localhost:8080/"
        },
        "id": "iJaxOvx7z95N",
        "outputId": "bf6dd1ce-2e9f-41fa-d019-06a7ef86be1d"
      },
      "execution_count": 15,
      "outputs": [
        {
          "output_type": "stream",
          "name": "stderr",
          "text": [
            "<ipython-input-15-be461545deef>:2: FutureWarning: The default value of numeric_only in DataFrame.mean is deprecated. In a future version, it will default to False. In addition, specifying 'numeric_only=None' is deprecated. Select only valid columns or specify the value of numeric_only to silence this warning.\n",
            "  train = train.fillna(train.mean())\n"
          ]
        }
      ]
    },
    {
      "cell_type": "code",
      "source": [
        "train.head()"
      ],
      "metadata": {
        "colab": {
          "base_uri": "https://localhost:8080/",
          "height": 235
        },
        "id": "HjE8nXYk0HRq",
        "outputId": "6f03ca17-6143-4367-cc97-052576d507c3"
      },
      "execution_count": 16,
      "outputs": [
        {
          "output_type": "execute_result",
          "data": {
            "text/plain": [
              "       0     1         2       3     4   5     6        7    8    9    ...  \\\n",
              "0    69769  -946  0.161300  0.7960  Panl   N  Bus2  0.07420    0    2  ...   \n",
              "2   168821 -1646  0.112400  0.8504  Panl   N  Bus3  0.03870    0    2  ...   \n",
              "13  165874 -7686  0.088517  0.6532  Stok   N  Mede  0.04252    0    2  ...   \n",
              "15  295340 -5768  0.046500  0.7892  Panl   Y  Bus2  0.03060    0    1  ...   \n",
              "20  206313  -452  0.076200  0.6804  Panl   N  Bus3  0.00730    0    2  ...   \n",
              "\n",
              "         112   113     114       115 116   117  118     119  120  121  \n",
              "0   1.000000 -4670  0.9851  0.000000   0  Mard  0.0  0.3333    0    0  \n",
              "2   2.000000 -2842  0.9891  0.000000   0  Sind  0.0  0.3750    0    1  \n",
              "13  0.000000 -2197  0.9747  0.027191   0  Cive  0.0  0.1250    0    0  \n",
              "15  1.897469  -688  0.9846  0.000000   0  Sind  0.0  0.5417    0    0  \n",
              "20  1.897469  -248  0.9767  0.050600   0  Mard  0.0  0.1667    0    0  \n",
              "\n",
              "[5 rows x 122 columns]"
            ],
            "text/html": [
              "\n",
              "  <div id=\"df-06451a5e-b849-4e6c-8ea3-e937aad8c840\">\n",
              "    <div class=\"colab-df-container\">\n",
              "      <div>\n",
              "<style scoped>\n",
              "    .dataframe tbody tr th:only-of-type {\n",
              "        vertical-align: middle;\n",
              "    }\n",
              "\n",
              "    .dataframe tbody tr th {\n",
              "        vertical-align: top;\n",
              "    }\n",
              "\n",
              "    .dataframe thead th {\n",
              "        text-align: right;\n",
              "    }\n",
              "</style>\n",
              "<table border=\"1\" class=\"dataframe\">\n",
              "  <thead>\n",
              "    <tr style=\"text-align: right;\">\n",
              "      <th></th>\n",
              "      <th>0</th>\n",
              "      <th>1</th>\n",
              "      <th>2</th>\n",
              "      <th>3</th>\n",
              "      <th>4</th>\n",
              "      <th>5</th>\n",
              "      <th>6</th>\n",
              "      <th>7</th>\n",
              "      <th>8</th>\n",
              "      <th>9</th>\n",
              "      <th>...</th>\n",
              "      <th>112</th>\n",
              "      <th>113</th>\n",
              "      <th>114</th>\n",
              "      <th>115</th>\n",
              "      <th>116</th>\n",
              "      <th>117</th>\n",
              "      <th>118</th>\n",
              "      <th>119</th>\n",
              "      <th>120</th>\n",
              "      <th>121</th>\n",
              "    </tr>\n",
              "  </thead>\n",
              "  <tbody>\n",
              "    <tr>\n",
              "      <th>0</th>\n",
              "      <td>69769</td>\n",
              "      <td>-946</td>\n",
              "      <td>0.161300</td>\n",
              "      <td>0.7960</td>\n",
              "      <td>Panl</td>\n",
              "      <td>N</td>\n",
              "      <td>Bus2</td>\n",
              "      <td>0.07420</td>\n",
              "      <td>0</td>\n",
              "      <td>2</td>\n",
              "      <td>...</td>\n",
              "      <td>1.000000</td>\n",
              "      <td>-4670</td>\n",
              "      <td>0.9851</td>\n",
              "      <td>0.000000</td>\n",
              "      <td>0</td>\n",
              "      <td>Mard</td>\n",
              "      <td>0.0</td>\n",
              "      <td>0.3333</td>\n",
              "      <td>0</td>\n",
              "      <td>0</td>\n",
              "    </tr>\n",
              "    <tr>\n",
              "      <th>2</th>\n",
              "      <td>168821</td>\n",
              "      <td>-1646</td>\n",
              "      <td>0.112400</td>\n",
              "      <td>0.8504</td>\n",
              "      <td>Panl</td>\n",
              "      <td>N</td>\n",
              "      <td>Bus3</td>\n",
              "      <td>0.03870</td>\n",
              "      <td>0</td>\n",
              "      <td>2</td>\n",
              "      <td>...</td>\n",
              "      <td>2.000000</td>\n",
              "      <td>-2842</td>\n",
              "      <td>0.9891</td>\n",
              "      <td>0.000000</td>\n",
              "      <td>0</td>\n",
              "      <td>Sind</td>\n",
              "      <td>0.0</td>\n",
              "      <td>0.3750</td>\n",
              "      <td>0</td>\n",
              "      <td>1</td>\n",
              "    </tr>\n",
              "    <tr>\n",
              "      <th>13</th>\n",
              "      <td>165874</td>\n",
              "      <td>-7686</td>\n",
              "      <td>0.088517</td>\n",
              "      <td>0.6532</td>\n",
              "      <td>Stok</td>\n",
              "      <td>N</td>\n",
              "      <td>Mede</td>\n",
              "      <td>0.04252</td>\n",
              "      <td>0</td>\n",
              "      <td>2</td>\n",
              "      <td>...</td>\n",
              "      <td>0.000000</td>\n",
              "      <td>-2197</td>\n",
              "      <td>0.9747</td>\n",
              "      <td>0.027191</td>\n",
              "      <td>0</td>\n",
              "      <td>Cive</td>\n",
              "      <td>0.0</td>\n",
              "      <td>0.1250</td>\n",
              "      <td>0</td>\n",
              "      <td>0</td>\n",
              "    </tr>\n",
              "    <tr>\n",
              "      <th>15</th>\n",
              "      <td>295340</td>\n",
              "      <td>-5768</td>\n",
              "      <td>0.046500</td>\n",
              "      <td>0.7892</td>\n",
              "      <td>Panl</td>\n",
              "      <td>Y</td>\n",
              "      <td>Bus2</td>\n",
              "      <td>0.03060</td>\n",
              "      <td>0</td>\n",
              "      <td>1</td>\n",
              "      <td>...</td>\n",
              "      <td>1.897469</td>\n",
              "      <td>-688</td>\n",
              "      <td>0.9846</td>\n",
              "      <td>0.000000</td>\n",
              "      <td>0</td>\n",
              "      <td>Sind</td>\n",
              "      <td>0.0</td>\n",
              "      <td>0.5417</td>\n",
              "      <td>0</td>\n",
              "      <td>0</td>\n",
              "    </tr>\n",
              "    <tr>\n",
              "      <th>20</th>\n",
              "      <td>206313</td>\n",
              "      <td>-452</td>\n",
              "      <td>0.076200</td>\n",
              "      <td>0.6804</td>\n",
              "      <td>Panl</td>\n",
              "      <td>N</td>\n",
              "      <td>Bus3</td>\n",
              "      <td>0.00730</td>\n",
              "      <td>0</td>\n",
              "      <td>2</td>\n",
              "      <td>...</td>\n",
              "      <td>1.897469</td>\n",
              "      <td>-248</td>\n",
              "      <td>0.9767</td>\n",
              "      <td>0.050600</td>\n",
              "      <td>0</td>\n",
              "      <td>Mard</td>\n",
              "      <td>0.0</td>\n",
              "      <td>0.1667</td>\n",
              "      <td>0</td>\n",
              "      <td>0</td>\n",
              "    </tr>\n",
              "  </tbody>\n",
              "</table>\n",
              "<p>5 rows × 122 columns</p>\n",
              "</div>\n",
              "      <button class=\"colab-df-convert\" onclick=\"convertToInteractive('df-06451a5e-b849-4e6c-8ea3-e937aad8c840')\"\n",
              "              title=\"Convert this dataframe to an interactive table.\"\n",
              "              style=\"display:none;\">\n",
              "        \n",
              "  <svg xmlns=\"http://www.w3.org/2000/svg\" height=\"24px\"viewBox=\"0 0 24 24\"\n",
              "       width=\"24px\">\n",
              "    <path d=\"M0 0h24v24H0V0z\" fill=\"none\"/>\n",
              "    <path d=\"M18.56 5.44l.94 2.06.94-2.06 2.06-.94-2.06-.94-.94-2.06-.94 2.06-2.06.94zm-11 1L8.5 8.5l.94-2.06 2.06-.94-2.06-.94L8.5 2.5l-.94 2.06-2.06.94zm10 10l.94 2.06.94-2.06 2.06-.94-2.06-.94-.94-2.06-.94 2.06-2.06.94z\"/><path d=\"M17.41 7.96l-1.37-1.37c-.4-.4-.92-.59-1.43-.59-.52 0-1.04.2-1.43.59L10.3 9.45l-7.72 7.72c-.78.78-.78 2.05 0 2.83L4 21.41c.39.39.9.59 1.41.59.51 0 1.02-.2 1.41-.59l7.78-7.78 2.81-2.81c.8-.78.8-2.07 0-2.86zM5.41 20L4 18.59l7.72-7.72 1.47 1.35L5.41 20z\"/>\n",
              "  </svg>\n",
              "      </button>\n",
              "      \n",
              "  <style>\n",
              "    .colab-df-container {\n",
              "      display:flex;\n",
              "      flex-wrap:wrap;\n",
              "      gap: 12px;\n",
              "    }\n",
              "\n",
              "    .colab-df-convert {\n",
              "      background-color: #E8F0FE;\n",
              "      border: none;\n",
              "      border-radius: 50%;\n",
              "      cursor: pointer;\n",
              "      display: none;\n",
              "      fill: #1967D2;\n",
              "      height: 32px;\n",
              "      padding: 0 0 0 0;\n",
              "      width: 32px;\n",
              "    }\n",
              "\n",
              "    .colab-df-convert:hover {\n",
              "      background-color: #E2EBFA;\n",
              "      box-shadow: 0px 1px 2px rgba(60, 64, 67, 0.3), 0px 1px 3px 1px rgba(60, 64, 67, 0.15);\n",
              "      fill: #174EA6;\n",
              "    }\n",
              "\n",
              "    [theme=dark] .colab-df-convert {\n",
              "      background-color: #3B4455;\n",
              "      fill: #D2E3FC;\n",
              "    }\n",
              "\n",
              "    [theme=dark] .colab-df-convert:hover {\n",
              "      background-color: #434B5C;\n",
              "      box-shadow: 0px 1px 3px 1px rgba(0, 0, 0, 0.15);\n",
              "      filter: drop-shadow(0px 1px 2px rgba(0, 0, 0, 0.3));\n",
              "      fill: #FFFFFF;\n",
              "    }\n",
              "  </style>\n",
              "\n",
              "      <script>\n",
              "        const buttonEl =\n",
              "          document.querySelector('#df-06451a5e-b849-4e6c-8ea3-e937aad8c840 button.colab-df-convert');\n",
              "        buttonEl.style.display =\n",
              "          google.colab.kernel.accessAllowed ? 'block' : 'none';\n",
              "\n",
              "        async function convertToInteractive(key) {\n",
              "          const element = document.querySelector('#df-06451a5e-b849-4e6c-8ea3-e937aad8c840');\n",
              "          const dataTable =\n",
              "            await google.colab.kernel.invokeFunction('convertToInteractive',\n",
              "                                                     [key], {});\n",
              "          if (!dataTable) return;\n",
              "\n",
              "          const docLinkHtml = 'Like what you see? Visit the ' +\n",
              "            '<a target=\"_blank\" href=https://colab.research.google.com/notebooks/data_table.ipynb>data table notebook</a>'\n",
              "            + ' to learn more about interactive tables.';\n",
              "          element.innerHTML = '';\n",
              "          dataTable['output_type'] = 'display_data';\n",
              "          await google.colab.output.renderOutput(dataTable, element);\n",
              "          const docLink = document.createElement('div');\n",
              "          docLink.innerHTML = docLinkHtml;\n",
              "          element.appendChild(docLink);\n",
              "        }\n",
              "      </script>\n",
              "    </div>\n",
              "  </div>\n",
              "  "
            ]
          },
          "metadata": {},
          "execution_count": 16
        }
      ]
    },
    {
      "cell_type": "code",
      "source": [
        "train.columns"
      ],
      "metadata": {
        "colab": {
          "base_uri": "https://localhost:8080/"
        },
        "id": "1CsSHBMv0Umf",
        "outputId": "2e7091e5-4457-4b6e-d78a-0939a1f1dd9b"
      },
      "execution_count": 17,
      "outputs": [
        {
          "output_type": "execute_result",
          "data": {
            "text/plain": [
              "Int64Index([  0,   1,   2,   3,   4,   5,   6,   7,   8,   9,\n",
              "            ...\n",
              "            112, 113, 114, 115, 116, 117, 118, 119, 120, 121],\n",
              "           dtype='int64', length=122)"
            ]
          },
          "metadata": {},
          "execution_count": 17
        }
      ]
    },
    {
      "cell_type": "code",
      "source": [
        "# NaN değerleri içeren sütunların sayısını bulma\n",
        "null_columns = train.columns[train.isnull().any()]\n",
        "null_count = train[null_columns].isnull().sum()\n",
        "\n",
        "print(null_count)"
      ],
      "metadata": {
        "colab": {
          "base_uri": "https://localhost:8080/"
        },
        "id": "Wr5Uw3tQvSzb",
        "outputId": "7e1a3584-f04c-48d7-9bb5-edaf29659a7d"
      },
      "execution_count": 18,
      "outputs": [
        {
          "output_type": "stream",
          "name": "stdout",
          "text": [
            "Series([], dtype: float64)\n"
          ]
        }
      ]
    },
    {
      "cell_type": "code",
      "source": [
        "if train.isnull().any().any():\n",
        "    print(\"There are still NaN values in the DataFrame.\")\n",
        "else:\n",
        "    print(\"There are no NaN values in the DataFrame.\")"
      ],
      "metadata": {
        "colab": {
          "base_uri": "https://localhost:8080/"
        },
        "id": "K2IgSe1_wTMQ",
        "outputId": "a2079d7f-c014-470c-a07d-1309b5725a14"
      },
      "execution_count": 19,
      "outputs": [
        {
          "output_type": "stream",
          "name": "stdout",
          "text": [
            "There are no NaN values in the DataFrame.\n"
          ]
        }
      ]
    },
    {
      "cell_type": "code",
      "source": [
        "# NaN değerleri içeren sütunların sayısını bulma\n",
        "null_columns = train.columns[train.isnull().any()]\n",
        "null_count = train[null_columns].isnull().sum()\n",
        "\n",
        "print(null_count)"
      ],
      "metadata": {
        "colab": {
          "base_uri": "https://localhost:8080/"
        },
        "id": "eKIJC812BGLs",
        "outputId": "46543474-be4c-4fcb-f8d0-84ff469c5260"
      },
      "execution_count": 20,
      "outputs": [
        {
          "output_type": "stream",
          "name": "stdout",
          "text": [
            "Series([], dtype: float64)\n"
          ]
        }
      ]
    },
    {
      "cell_type": "code",
      "source": [
        "#remove the not a number values. \n",
        "ages = []\n",
        "for i in train:\n",
        "  if pd.isna(i):\n",
        "    continue\n",
        "  ages.append(i)"
      ],
      "metadata": {
        "id": "Sbn6tt5mHKzB"
      },
      "execution_count": 21,
      "outputs": []
    },
    {
      "cell_type": "code",
      "source": [
        "from scipy import stats\n",
        "\n",
        "#hypothesis testing\n",
        "\n",
        "# generate some random data\n",
        "np.random.seed(123)\n",
        "data = np.random.normal(loc=10, scale=2, size=100)\n",
        "\n",
        "# test the hypothesis that the mean of the data is equal to 9\n",
        "test_statistic, p_value = stats.ttest_1samp(data, popmean=9)\n",
        "\n",
        "# print the results\n",
        "print(\"Test statistic:\", test_statistic)\n",
        "print(\"P-value:\", p_value)"
      ],
      "metadata": {
        "colab": {
          "base_uri": "https://localhost:8080/"
        },
        "id": "zafzWk5UHOz5",
        "outputId": "300ed413-7dac-4287-f338-e408f3e8f593"
      },
      "execution_count": 22,
      "outputs": [
        {
          "output_type": "stream",
          "name": "stdout",
          "text": [
            "Test statistic: 4.648538319899446\n",
            "P-value: 1.0331900407061688e-05\n"
          ]
        }
      ]
    },
    {
      "cell_type": "code",
      "source": [
        "import pandas as pd\n",
        "\n",
        "# convert your NumPy array to a Pandas DataFrame\n",
        "data = pd.DataFrame(data)\n",
        "\n",
        "# rename the columns using the rename method\n",
        "data = data.rename(columns={'1': 'x', '2': 'y', '3': 'z', '6': 'b'})"
      ],
      "metadata": {
        "id": "69NutiGGUiPM"
      },
      "execution_count": 23,
      "outputs": []
    },
    {
      "cell_type": "code",
      "source": [
        "data.rename(columns={'1': 'x'}, inplace=True)\n",
        "data.rename(columns={'2': 'y'}, inplace=True)\n",
        "data.rename(columns={'3': 'z'}, inplace=True)\n",
        "data.rename(columns={'6': 'b'}, inplace=True)"
      ],
      "metadata": {
        "id": "q-5YTUDMIRbO"
      },
      "execution_count": 24,
      "outputs": []
    },
    {
      "cell_type": "code",
      "source": [
        "print(data.columns)"
      ],
      "metadata": {
        "colab": {
          "base_uri": "https://localhost:8080/"
        },
        "id": "fjysc-dAHYTe",
        "outputId": "bd373a07-ede7-4ca0-d046-39cb680bcd3c"
      },
      "execution_count": 25,
      "outputs": [
        {
          "output_type": "stream",
          "name": "stdout",
          "text": [
            "Int64Index([0], dtype='int64')\n"
          ]
        }
      ]
    },
    {
      "cell_type": "code",
      "source": [
        "\n",
        "# Veriyi okuyun\n",
        "data = pd.read_csv('/content/drive/MyDrive/train.csv')\n",
        "\n",
        "# 1. sütunu histogram olarak çizdirin\n",
        "plt.hist(data['1'], bins=10)\n",
        "\n",
        "# Eksen etiketlerini belirle\n",
        "plt.xlabel('1. Sütun')\n",
        "plt.ylabel('Sayı')\n",
        "\n",
        "# Grafiği göster\n",
        "plt.show()\n",
        "\n",
        "# 2. sütunu histogram olarak çizdirin\n",
        "plt.hist(data['2'], bins=10)\n",
        "\n",
        "# Eksen etiketlerini belirle\n",
        "plt.xlabel('2. Sütun')\n",
        "plt.ylabel('Sayı')\n",
        "\n",
        "# Grafiği göster\n",
        "plt.show()"
      ],
      "metadata": {
        "colab": {
          "base_uri": "https://localhost:8080/",
          "height": 881
        },
        "id": "Pykb9q8-LV1v",
        "outputId": "38d2cca8-f37b-41b2-e8a0-6465d563c57d"
      },
      "execution_count": 28,
      "outputs": [
        {
          "output_type": "display_data",
          "data": {
            "text/plain": [
              "<Figure size 640x480 with 1 Axes>"
            ],
            "image/png": "[encoded data removed]"
          },
          "metadata": {}
        },
        {
          "output_type": "display_data",
          "data": {
            "text/plain": [
              "<Figure size 640x480 with 1 Axes>"
            ],
            "image/png": "[encoded data removed]"
          },
          "metadata": {}
        }
      ]
    },
    {
      "cell_type": "code",
      "source": [
        "# 1. ve 2. sütunların histogramlarını aynı grafikte göster\n",
        "plt.hist(data['1'], bins=10, alpha=0.5, label='1. Sütun')\n",
        "plt.hist(data['2'], bins=10, alpha=0.5, label='2. Sütun')\n",
        "\n",
        "# Eksen etiketlerini ve başlığı belirle\n",
        "plt.xlabel('Değer')\n",
        "plt.ylabel('Sayı')\n",
        "plt.title('1. ve 2. Sütunların Histogramı')\n",
        "\n",
        "# Yatay çizgi ekle (ortalama)\n",
        "plt.axvline(data['1'].mean(), color='red', linestyle='dashed', linewidth=1)\n",
        "plt.axvline(data['2'].mean(), color='green', linestyle='dashed', linewidth=1)\n",
        "\n",
        "# Görselleştirmeyi göster\n",
        "plt.legend()\n",
        "plt.show()"
      ],
      "metadata": {
        "colab": {
          "base_uri": "https://localhost:8080/",
          "height": 472
        },
        "id": "FE-z8PaAM66M",
        "outputId": "812d6f90-62e6-4605-e9ba-334cde86e6f0"
      },
      "execution_count": null,
      "outputs": [
        {
          "output_type": "display_data",
          "data": {
            "text/plain": [
              "<Figure size 640x480 with 1 Axes>"
            ],
            "image/png": "[encoded data removed]"
          },
          "metadata": {}
        }
      ]
    },
    {
      "cell_type": "code",
      "source": [
        "plt.hist(data['1'], bins=10, density=True, alpha=0.5, label='1. Sütun')\n",
        "plt.hist(data['2'], bins=10, density=True, alpha=0.5, label='2. Sütun')\n",
        "\n",
        "# Eksen etiketlerini ve başlığı belirle\n",
        "plt.xlabel('Değer')\n",
        "plt.ylabel('Yoğunluk')\n",
        "plt.title('1. ve 2. Sütunların Yoğunluk Grafiği')\n",
        "\n",
        "# Yatay çizgi ekle (ortalama)\n",
        "plt.axvline(data['1'].mean(), color='red', linestyle='dashed', linewidth=1)\n",
        "plt.axvline(data['2'].mean(), color='green', linestyle='dashed', linewidth=1)\n",
        "\n",
        "# Görselleştirmeyi göster\n",
        "plt.legend()"
      ],
      "metadata": {
        "colab": {
          "base_uri": "https://localhost:8080/",
          "height": 489
        },
        "id": "VW-hl2RjRhcM",
        "outputId": "404b813a-567e-4deb-94a9-4965b379c57f"
      },
      "execution_count": null,
      "outputs": [
        {
          "output_type": "execute_result",
          "data": {
            "text/plain": [
              "<matplotlib.legend.Legend at 0x7fe21ca0e7f0>"
            ]
          },
          "metadata": {},
          "execution_count": 144
        },
        {
          "output_type": "display_data",
          "data": {
            "text/plain": [
              "<Figure size 640x480 with 1 Axes>"
            ],
            "image/png": "[encoded data removed]"
          },
          "metadata": {}
        }
      ]
    },
    {
      "cell_type": "code",
      "source": [
        "# İlk 15 satırı al\n",
        "subset = data.head(15)\n",
        "\n",
        "# '1' ve '2' sütunları arasındaki korelasyonu hesapla\n",
        "corr = subset['1'].corr(subset['2'])\n",
        "\n",
        "print(\"Korelasyon: \", corr)"
      ],
      "metadata": {
        "colab": {
          "base_uri": "https://localhost:8080/"
        },
        "id": "Wk3RQZ9_N379",
        "outputId": "7c068e31-8c39-4535-b73a-2e4c708d08e7"
      },
      "execution_count": null,
      "outputs": [
        {
          "output_type": "stream",
          "name": "stdout",
          "text": [
            "Korelasyon:  nan\n"
          ]
        }
      ]
    },
    {
      "cell_type": "code",
      "source": [
        "# Pearson korelasyon katsayısını hesapla\n",
        "correlations = data.corr()\n",
        "\n",
        "# Pozitif korelasyonları seç\n",
        "positive_correlations = correlations[correlations > 0]\n",
        "\n",
        "# Korelasyon tablosunu göster\n",
        "print(positive_correlations)"
      ],
      "metadata": {
        "colab": {
          "base_uri": "https://localhost:8080/"
        },
        "id": "9l-fFXqMPLUZ",
        "outputId": "cd62fcf2-cf41-47be-e2f4-81ce57f9a383"
      },
      "execution_count": null,
      "outputs": [
        {
          "output_type": "stream",
          "name": "stderr",
          "text": [
            "<ipython-input-146-9401b99d1d27>:2: FutureWarning: The default value of numeric_only in DataFrame.corr is deprecated. In a future version, it will default to False. Select only valid columns or specify the value of numeric_only to silence this warning.\n",
            "  correlations = data.corr()\n"
          ]
        },
        {
          "output_type": "stream",
          "name": "stdout",
          "text": [
            "                       69769      -946    0.1613  0.7959999999999999  \\\n",
            "69769               1.000000  0.002156       NaN                 NaN   \n",
            "-946                0.002156  1.000000       NaN                 NaN   \n",
            "0.1613                   NaN       NaN  1.000000            0.245559   \n",
            "0.7959999999999999       NaN       NaN  0.245559            1.000000   \n",
            "0.0742              0.001566       NaN  0.405363            0.223163   \n",
            "...                      ...       ...       ...                 ...   \n",
            "0.26                     NaN       NaN  0.010190            0.003628   \n",
            "0.0.14                   NaN  0.016974       NaN                 NaN   \n",
            "0.3333.2            0.002237       NaN  0.330778            0.518410   \n",
            "0.27                     NaN       NaN  0.035887            0.029063   \n",
            "0.28                     NaN       NaN       NaN                 NaN   \n",
            "\n",
            "                      0.0742         0         2    0.2281     0.065  \\\n",
            "69769               0.001566  0.000673  0.000782       NaN       NaN   \n",
            "-946                     NaN       NaN  0.034254       NaN       NaN   \n",
            "0.1613              0.405363  0.013689       NaN  0.692712  0.464369   \n",
            "0.7959999999999999  0.223163  0.010854  0.034909  0.352912  0.177100   \n",
            "0.0742              1.000000  0.012623       NaN  0.538912  0.268175   \n",
            "...                      ...       ...       ...       ...       ...   \n",
            "0.26                0.004520       NaN       NaN  0.010361  0.009193   \n",
            "0.0.14                   NaN       NaN  0.015133       NaN       NaN   \n",
            "0.3333.2            0.378640  0.029927       NaN  0.629836  0.216646   \n",
            "0.27                0.044343  0.078427       NaN  0.066185  0.005597   \n",
            "0.28                     NaN       NaN  0.061283       NaN       NaN   \n",
            "\n",
            "                         0.0  ...    0.1847     1.0.1     -4670  0.9851.2  \\\n",
            "69769                    NaN  ...       NaN       NaN       NaN       NaN   \n",
            "-946                     NaN  ...       NaN  0.049850       NaN  0.008395   \n",
            "0.1613              0.019582  ...  0.651636       NaN       NaN  0.056004   \n",
            "0.7959999999999999       NaN  ...  0.332799       NaN       NaN  0.293533   \n",
            "0.0742              0.014440  ...  0.529647       NaN  0.000965  0.049933   \n",
            "...                      ...  ...       ...       ...       ...       ...   \n",
            "0.26                     NaN  ...  0.008969       NaN       NaN  0.000609   \n",
            "0.0.14                   NaN  ...       NaN  0.018642  0.003845       NaN   \n",
            "0.3333.2            0.049430  ...  0.588825       NaN       NaN  0.102163   \n",
            "0.27                0.019332  ...  0.060889       NaN  0.024757  0.003072   \n",
            "0.28                     NaN  ...       NaN  0.018984  0.049581       NaN   \n",
            "\n",
            "                      0.0.13      0.26    0.0.14  0.3333.2      0.27      0.28  \n",
            "69769                    NaN       NaN       NaN  0.002237       NaN       NaN  \n",
            "-946                     NaN       NaN  0.016974       NaN       NaN       NaN  \n",
            "0.1613              0.258244  0.010190       NaN  0.330778  0.035887       NaN  \n",
            "0.7959999999999999  0.110959  0.003628       NaN  0.518410  0.029063       NaN  \n",
            "0.0742              0.230129  0.004520       NaN  0.378640  0.044343       NaN  \n",
            "...                      ...       ...       ...       ...       ...       ...  \n",
            "0.26                0.019458  1.000000       NaN  0.002928  0.006773       NaN  \n",
            "0.0.14                   NaN       NaN  1.000000       NaN       NaN  0.032059  \n",
            "0.3333.2            0.226462  0.002928       NaN  1.000000  0.089837       NaN  \n",
            "0.27                0.027444  0.006773       NaN  0.089837  1.000000       NaN  \n",
            "0.28                     NaN       NaN  0.032059       NaN       NaN  1.000000  \n",
            "\n",
            "[106 rows x 106 columns]\n"
          ]
        }
      ]
    },
    {
      "cell_type": "code",
      "source": [
        "corr = data.corr().abs()\n",
        "\n",
        "max_corr = corr.unstack().sort_values(ascending=False).drop_duplicates().head(1)\n",
        "\n",
        "print(\"En güçlü korelasyon katsayısı: \", max_corr.values[0])\n",
        "print(\"Değişkenler: \", max_corr.index.tolist())"
      ],
      "metadata": {
        "colab": {
          "base_uri": "https://localhost:8080/"
        },
        "id": "KEVU1-RQQV4T",
        "outputId": "f72c897d-2767-4782-f394-34bc1a128158"
      },
      "execution_count": null,
      "outputs": [
        {
          "output_type": "stream",
          "name": "stderr",
          "text": [
            "<ipython-input-147-3fdc6084f3bb>:1: FutureWarning: The default value of numeric_only in DataFrame.corr is deprecated. In a future version, it will default to False. Select only valid columns or specify the value of numeric_only to silence this warning.\n",
            "  corr = data.corr().abs()\n"
          ]
        },
        {
          "output_type": "stream",
          "name": "stdout",
          "text": [
            "En güçlü korelasyon katsayısı:  1.0\n",
            "Değişkenler:  [('69769', '69769')]\n"
          ]
        }
      ]
    },
    {
      "cell_type": "code",
      "source": [
        "import seaborn as sns\n",
        "# Compute the correlation matrix\n",
        "corr_matrix = train.corr()\n",
        "\n",
        "# Visualize the correlation matrix with a heatmap\n",
        "sns.heatmap(corr_matrix, cmap='coolwarm', annot=True)\n",
        "plt.title('Correlation Matrix')\n",
        "plt.show()"
      ],
      "metadata": {
        "colab": {
          "base_uri": "https://localhost:8080/",
          "height": 520
        },
        "id": "hyx1fal0U3Ao",
        "outputId": "4eba715d-0115-40bc-aca9-d98b370da959"
      },
      "execution_count": null,
      "outputs": [
        {
          "output_type": "stream",
          "name": "stderr",
          "text": [
            "<ipython-input-148-aec6ee639abf>:3: FutureWarning: The default value of numeric_only in DataFrame.corr is deprecated. In a future version, it will default to False. Select only valid columns or specify the value of numeric_only to silence this warning.\n",
            "  corr_matrix = train.corr()\n"
          ]
        },
        {
          "output_type": "display_data",
          "data": {
            "text/plain": [
              "<Figure size 640x480 with 2 Axes>"
            ],
            "image/png": "[encoded data removed]"
          },
          "metadata": {}
        }
      ]
    }
  ]
}